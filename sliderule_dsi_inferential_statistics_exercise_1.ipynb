{
 "cells": [
  {
   "cell_type": "markdown",
   "metadata": {},
   "source": [
    "# What is the True Normal Human Body Temperature? \n",
    "\n",
    "#### Background\n",
    "\n",
    "The mean normal body temperature was held to be 37$^{\\circ}$C or 98.6$^{\\circ}$F for more than 120 years since it was first conceptualized and reported by Carl Wunderlich in a famous 1868 book. But, is this value statistically correct?"
   ]
  },
  {
   "cell_type": "markdown",
   "metadata": {},
   "source": [
    "<h3>Exercises</h3>\n",
    "\n",
    "<p>In this exercise, you will analyze a dataset of human body temperatures and employ the concepts of hypothesis testing, confidence intervals, and statistical significance.</p>\n",
    "\n",
    "<p>Answer the following questions <b>in this notebook below and submit to your Github account</b>.</p> \n",
    "\n",
    "<ol>\n",
    "<li>  Is the distribution of body temperatures normal? \n",
    "    <ul>\n",
    "    <li> Although this is not a requirement for the Central Limit Theorem to hold (read the introduction on Wikipedia's page about the CLT carefully: https://en.wikipedia.org/wiki/Central_limit_theorem), it gives us some peace of mind that the population may also be normally distributed if we assume that this sample is representative of the population.\n",
    "    <li> Think about the way you're going to check for the normality of the distribution. Graphical methods are usually used first, but there are also other ways: https://en.wikipedia.org/wiki/Normality_test\n",
    "    </ul>\n",
    "<li>  Is the sample size large? Are the observations independent?\n",
    "    <ul>\n",
    "    <li> Remember that this is a condition for the Central Limit Theorem, and hence the statistical tests we are using, to apply.\n",
    "    </ul>\n",
    "<li>  Is the true population mean really 98.6 degrees F?\n",
    "    <ul>\n",
    "    <li> First, try a bootstrap hypothesis test.\n",
    "    <li> Now, let's try frequentist statistical testing. Would you use a one-sample or two-sample test? Why?\n",
    "    <li> In this situation, is it appropriate to use the $t$ or $z$ statistic? \n",
    "    <li> Now try using the other test. How is the result be different? Why?\n",
    "    </ul>\n",
    "<li>  Draw a small sample of size 10 from the data and repeat both frequentist tests. \n",
    "    <ul>\n",
    "    <li> Which one is the correct one to use? \n",
    "    <li> What do you notice? What does this tell you about the difference in application of the $t$ and $z$ statistic?\n",
    "    </ul>\n",
    "<li>  At what temperature should we consider someone's temperature to be \"abnormal\"?\n",
    "    <ul>\n",
    "    <li> As in the previous example, try calculating everything using the boostrap approach, as well as the frequentist approach.\n",
    "    <li> Start by computing the margin of error and confidence interval. When calculating the confidence interval, keep in mind that you should use the appropriate formula for one draw, and not N draws.\n",
    "    </ul>\n",
    "<li>  Is there a significant difference between males and females in normal temperature?\n",
    "    <ul>\n",
    "    <li> What testing approach did you use and why?\n",
    "    <li> Write a story with your conclusion in the context of the original problem.\n",
    "    </ul>\n",
    "</ol>\n",
    "\n",
    "You can include written notes in notebook cells using Markdown: \n",
    "   - In the control panel at the top, choose Cell > Cell Type > Markdown\n",
    "   - Markdown syntax: http://nestacms.com/docs/creating-content/markdown-cheat-sheet\n",
    "\n",
    "#### Resources\n",
    "\n",
    "+ Information and data sources: http://www.amstat.org/publications/jse/datasets/normtemp.txt, http://www.amstat.org/publications/jse/jse_data_archive.htm\n",
    "+ Markdown syntax: http://nestacms.com/docs/creating-content/markdown-cheat-sheet\n",
    "\n",
    "****"
   ]
  },
  {
   "cell_type": "markdown",
   "metadata": {},
   "source": [
    "### referred\n",
    "\n",
    "https://towardsdatascience.com/hypothesis-testing-in-machine-learning-using-python-a0dc89e169ce\n",
    "\n",
    "https://towardsdatascience.com/inferential-statistics-series-t-test-using-numpy-2718f8f9bf2f\n",
    "\n",
    "https://docs.scipy.org/doc/scipy-0.14.0/reference/generated/scipy.stats.ttest_1samp.html"
   ]
  },
  {
   "cell_type": "code",
   "execution_count": 1,
   "metadata": {},
   "outputs": [],
   "source": [
    "import pandas as pd\n",
    "import matplotlib.pyplot as plt\n",
    "import seaborn as sns\n",
    "import numpy as np\n",
    "from scipy import stats\n",
    "from statsmodels.stats import weightstats as stests\n",
    "\n",
    "df = pd.read_csv('data/human_body_temperature.csv')"
   ]
  },
  {
   "cell_type": "markdown",
   "metadata": {},
   "source": [
    "## 1. Is the distribution of body temperatures normal?"
   ]
  },
  {
   "cell_type": "code",
   "execution_count": null,
   "metadata": {},
   "outputs": [],
   "source": []
  },
  {
   "cell_type": "code",
   "execution_count": 2,
   "metadata": {},
   "outputs": [],
   "source": [
    "# we will reuse the ecdf formula created during lectures\n",
    "def ecdf(data):\n",
    "    \"\"\"Compute ECDF for a one-dimensional array of measurements.\"\"\"\n",
    "    # Number of data points: n\n",
    "    n = len(data)\n",
    "\n",
    "    # x-data for the ECDF: x\n",
    "    x= np.sort(data)\n",
    "\n",
    "    # y-data for the ECDF: y\n",
    "    y = np.arange(1, n+1) / n\n",
    "\n",
    "    return x, y"
   ]
  },
  {
   "cell_type": "code",
   "execution_count": 3,
   "metadata": {},
   "outputs": [
    {
     "data": {
      "image/png": "[encoded data removed]",
      "text/plain": [
       "<Figure size 432x288 with 1 Axes>"
      ]
     },
     "metadata": {
      "needs_background": "light"
     },
     "output_type": "display_data"
    }
   ],
   "source": [
    "temperature = df['temperature']\n",
    "\n",
    "#_=plt.hist(temperature,bins=100)\n",
    "_=plt.hist(temperature,bins=30,density=True)\n",
    "_=plt.xlabel('Temperature')\n",
    "_=plt.ylabel('Probability Density')\n",
    "plt.show()"
   ]
  },
  {
   "cell_type": "markdown",
   "metadata": {},
   "source": [
    "The distribution itself seems pretty normal.  Identifying whether the observed data is normal or not using histogram can be tricky as the \"look\" of the histogram can vary a lot by the size of bins.\n",
    "\n",
    "All we need to take away from this histogram is the general dispersity of data and where the data are closely gathered (mean).\n",
    "We will look at other means of comparison."
   ]
  },
  {
   "cell_type": "code",
   "execution_count": 4,
   "metadata": {},
   "outputs": [],
   "source": [
    "#let's take the mean and std of the empirical data and use it to take a random normal sample of 10000\n",
    "temp_mean = np.mean(temperature)\n",
    "temp_std = np.std(temperature)\n",
    "\n",
    "#we use np.random.normal to do this\n",
    "sample_temp = np.random.normal(temp_mean,temp_std,10000)"
   ]
  },
  {
   "cell_type": "code",
   "execution_count": 5,
   "metadata": {},
   "outputs": [
    {
     "data": {
      "image/png": "[encoded data removed]",
      "text/plain": [
       "<Figure size 432x288 with 1 Axes>"
      ]
     },
     "metadata": {
      "needs_background": "light"
     },
     "output_type": "display_data"
    }
   ],
   "source": [
    "#take the data and its cumulative distributive function value to x,y\n",
    "x,y=ecdf(temperature)\n",
    "\n",
    "_=plt.plot(x,y,marker='.',linestyle='none',color='blue')\n",
    "_=plt.xlabel('Temperature')\n",
    "_=plt.ylabel('ECDF')\n",
    "\n",
    "#we do the same with the normal sample that we took\n",
    "sample_x, sample_y = ecdf(sample_temp)\n",
    "_=plt.plot(sample_x,sample_y,color='red')\n",
    "\n",
    "plt.show()"
   ]
  },
  {
   "cell_type": "markdown",
   "metadata": {},
   "source": [
    "Here, we have overlayed the empirical cumulative distribution function of the observered data in blue with the cdf of our normally sampled data.\n",
    "We can see here that both are almost an exact match and can conclude that our empirical data follows a normal distribution."
   ]
  },
  {
   "cell_type": "markdown",
   "metadata": {},
   "source": [
    "## 2. Is the sample size large? Are the observations independent?"
   ]
  },
  {
   "cell_type": "markdown",
   "metadata": {},
   "source": [
    "Three most important conditions for CLT is : \n",
    "\n",
    "1) Is it independent?\n",
    "\n",
    "We can safely say that measuring temperature and heart rate of person A will not affect the measurement of person B.\n",
    "So, yes.\n",
    "\n",
    "2) Is it randomly sampled?\n",
    "\n",
    "Although not explicitly stated, it is safe to assume the data is randomly sampled as non-random sampling would mean there is a specific pool where these people were chosen from. \n",
    "\n",
    "3) Is the sample size large?\n",
    "\n",
    "In a lot of cases, large sample size that meets the CLT condition is considered above 30.  We have 130 data points."
   ]
  },
  {
   "cell_type": "markdown",
   "metadata": {},
   "source": [
    "## 3. Is the true population mean really 98.6 degrees F?"
   ]
  },
  {
   "cell_type": "markdown",
   "metadata": {},
   "source": [
    "First, try a bootstrap hypothesis test.\n",
    "Now, let's try frequentist statistical testing. Would you use a one-sample or two-sample test? Why?\n",
    "In this situation, is it appropriate to use the  𝑡  or  𝑧  statistic?\n",
    "Now try using the other test. How is the result be different? Why?"
   ]
  },
  {
   "cell_type": "code",
   "execution_count": 6,
   "metadata": {},
   "outputs": [],
   "source": [
    "#define bootstrap methods\n",
    "\n",
    "def bootstrap_replicate_1d(data, func):\n",
    "    '''Takes in 1d array of data and outputs a resampled array of size input array.\n",
    "    The method also takes in an aggregate function to apply to the resampled data for bootstrap replicate'''\n",
    "    return func(np.random.choice(data, size=len(data)))\n",
    "\n",
    "\n",
    "def draw_bs_reps(data, func, size=1):\n",
    "    \"\"\"Draw bootstrap replicates.\"\"\"\n",
    "\n",
    "    # Initialize array of replicates: bs_replicates\n",
    "    bs_replicates = np.empty(size)\n",
    "\n",
    "    # Generate replicates\n",
    "    for i in range(size):\n",
    "        bs_replicates[i] = bootstrap_replicate_1d(data, func)\n",
    "\n",
    "    return bs_replicates"
   ]
  },
  {
   "cell_type": "code",
   "execution_count": 7,
   "metadata": {},
   "outputs": [
    {
     "name": "stdout",
     "output_type": "stream",
     "text": [
      "98.18923076923078\n",
      "98.24923076923078\n"
     ]
    }
   ],
   "source": [
    "#Bootstrap test\n",
    "\n",
    "#this is a test to see if the method is working correctly.\n",
    "bs_temp = bootstrap_replicate_1d(temperature, np.mean)\n",
    "\n",
    "#the mean is relatively close to the value we are expecting.  We can continue\n",
    "print(bs_temp)\n",
    "print(np.mean(temperature))"
   ]
  },
  {
   "cell_type": "code",
   "execution_count": 8,
   "metadata": {},
   "outputs": [
    {
     "data": {
      "image/png": "[encoded data removed]",
      "text/plain": [
       "<Figure size 432x288 with 1 Axes>"
      ]
     },
     "metadata": {
      "needs_background": "light"
     },
     "output_type": "display_data"
    }
   ],
   "source": [
    "#bs_temp_rep contains 10000 mean values that were calculated out of 10000 different permutation of our temperature data\n",
    "bs_temp_rep = draw_bs_reps(temperature, np.mean, 10000)\n",
    "\n",
    "#plotting histogram of bootstrap replicates\n",
    "_= plt.hist(bs_temp_rep, bins=30,density=True)\n",
    "_= plt.xlabel('Temperature mean in Farenheit')\n",
    "_= plt.ylabel('Probability Density Function')\n",
    "plt.show()"
   ]
  },
  {
   "cell_type": "markdown",
   "metadata": {},
   "source": [
    "We created a pdf of the bootstrap replicates we generated.  With this data, we can create a confidence interval where if we took 10000 samples like above multiple times, where the mean would fall 95% of the times. (significance level = .05)"
   ]
  },
  {
   "cell_type": "code",
   "execution_count": 9,
   "metadata": {},
   "outputs": [
    {
     "name": "stdout",
     "output_type": "stream",
     "text": [
      "[98.12307692 98.37461538]\n"
     ]
    }
   ],
   "source": [
    "#np.percentile takes in the 1d array and list of percentage values. \n",
    "conf_int_temp = np.percentile(bs_temp_rep,[2.5,97.5])\n",
    "print(conf_int_temp)"
   ]
  },
  {
   "cell_type": "markdown",
   "metadata": {},
   "source": [
    "With the above range from 98.12 ~ 98.38 , we cannot prove that true mean body temperature is 98.6.  We can say that is lies somewhere within the above range 95% of the times."
   ]
  },
  {
   "cell_type": "markdown",
   "metadata": {},
   "source": [
    "Hypothesis test\n",
    "\n",
    "Ho : True population mean temperature = 98.6\n",
    "\n",
    "Ha : True population mean tempearture < 98.6\n",
    "\n",
    "This would be a one-sample z test as we have a large sample size."
   ]
  },
  {
   "cell_type": "code",
   "execution_count": 10,
   "metadata": {},
   "outputs": [
    {
     "name": "stdout",
     "output_type": "stream",
     "text": [
      "[98.64538462 98.53153846 98.60076923 ... 98.73076923 98.52076923\n",
      " 98.63615385]\n"
     ]
    }
   ],
   "source": [
    "#making an array of translated temperature mean.  we do this by adding the population mean and subtracting our mean\n",
    "trans_temp = temperature + 98.6 - np.mean(temperature)\n",
    "\n",
    "#take bootstrap replicates of trans_temp\n",
    "bs_trans_temp_rep = draw_bs_reps(trans_temp,np.mean,10000)\n",
    "\n",
    "print(bs_trans_temp_rep)"
   ]
  },
  {
   "cell_type": "code",
   "execution_count": 11,
   "metadata": {},
   "outputs": [
    {
     "name": "stdout",
     "output_type": "stream",
     "text": [
      "0.0\n"
     ]
    }
   ],
   "source": [
    "#get p value by computing fraction of reps that are <   > than the observed temperature\n",
    "p=np.sum(bs_trans_temp_rep <= np.mean(temperature))/10000\n",
    "print(p)"
   ]
  },
  {
   "cell_type": "code",
   "execution_count": 12,
   "metadata": {},
   "outputs": [
    {
     "name": "stdout",
     "output_type": "stream",
     "text": [
      "-5.4548232923645195 4.9021570141012155e-08\n"
     ]
    }
   ],
   "source": [
    "#z test using scipy\n",
    "ztest, pval = stests.ztest(temperature,x2=None, value=98.6)\n",
    "print(ztest,pval)"
   ]
  },
  {
   "cell_type": "markdown",
   "metadata": {},
   "source": [
    "p-value is 0 from our bootstrap hypothesis testing and very low number from our ztest, so the sample mean cannot be the same as population mean.  Either we have taken a very outlying sample or true mean is not 98.6.  For now, we can reject the null hypothesis."
   ]
  },
  {
   "cell_type": "markdown",
   "metadata": {},
   "source": [
    "one sample T test method\n",
    "\n"
   ]
  },
  {
   "cell_type": "code",
   "execution_count": 13,
   "metadata": {},
   "outputs": [
    {
     "name": "stdout",
     "output_type": "stream",
     "text": [
      "-5.4548232923645195 2.4106320415561276e-07\n"
     ]
    }
   ],
   "source": [
    "#t test using scipy\n",
    "ttest, pval = stats.ttest_1samp(temperature,98.6)\n",
    "print(ttest,pval)"
   ]
  },
  {
   "cell_type": "markdown",
   "metadata": {},
   "source": [
    "p value on the t test is also very small but not 0.  So we will reject null hypothesis here as well.\n",
    "z statistic and t statistics are of same value but p values are different."
   ]
  },
  {
   "cell_type": "markdown",
   "metadata": {},
   "source": [
    "## 4. Draw a small sample of size 10 from the data and repeat both frequentist tests."
   ]
  },
  {
   "cell_type": "code",
   "execution_count": 14,
   "metadata": {},
   "outputs": [],
   "source": [
    "#initially drew sample using np.random.choice but the results were keep changing.\n",
    "#to keep the answer consistent, we will pick from data\n",
    "\n",
    "#pick every 5th temp data and get the first 10\n",
    "mini_temperature = temperature[::5][:10]"
   ]
  },
  {
   "cell_type": "code",
   "execution_count": 15,
   "metadata": {},
   "outputs": [
    {
     "name": "stdout",
     "output_type": "stream",
     "text": [
      "0.28423572284298276 0.7762297410426022\n",
      "-5.4548232923645195 2.4106320415561276e-07\n"
     ]
    }
   ],
   "source": [
    "#z test\n",
    "\n",
    "ztest, pval = stests.ztest(mini_temperature,x2=None, value=98.6)\n",
    "print(ztest,pval)\n",
    "\n",
    "ttest, pval = stats.ttest_1samp(temperature,98.6)\n",
    "print(ttest,pval)"
   ]
  },
  {
   "cell_type": "markdown",
   "metadata": {},
   "source": [
    "With sample size below 30, t test is what we should be using.  And as expected, t test gave us the same value like before but z test has given a completely different value."
   ]
  },
  {
   "cell_type": "markdown",
   "metadata": {},
   "source": [
    "## 5. At what temperature should we consider someone's temperature to be \"abnormal\"?"
   ]
  },
  {
   "cell_type": "markdown",
   "metadata": {},
   "source": [
    "In question 3, we already calculated our 95% confidence interval for human temerature.  Any temperature outside of range, [98.12307692 98.37461538], will be considered abnormal."
   ]
  },
  {
   "cell_type": "markdown",
   "metadata": {},
   "source": [
    "## 6. Is there a significant difference between males and females in normal temperature?"
   ]
  },
  {
   "cell_type": "code",
   "execution_count": 18,
   "metadata": {},
   "outputs": [],
   "source": [
    "#first extract the relevant data\n",
    "male = df.loc[df['gender']=='M']['temperature']\n",
    "female =  df.loc[df['gender']=='F']['temperature']\n"
   ]
  },
  {
   "cell_type": "markdown",
   "metadata": {},
   "source": [
    "For this question, we will use two sided z test with significance level of 0.05. \n",
    "\n",
    "Ho : male temp mean - female temp mean = 0\n",
    "\n",
    "Ha : male temp mean - female temp mean != 0\n"
   ]
  },
  {
   "cell_type": "code",
   "execution_count": 19,
   "metadata": {},
   "outputs": [
    {
     "name": "stdout",
     "output_type": "stream",
     "text": [
      "-2.2854345381656103 0.02228736076065755\n"
     ]
    }
   ],
   "source": [
    "ztest1,pval1 = stests.ztest(male,x2=female,value=0,alternative='two-sided')\n",
    "print(ztest1,pval1)"
   ]
  },
  {
   "cell_type": "markdown",
   "metadata": {},
   "source": [
    "Hypothesis test shows that male body temperature and female body temperature mean are different.  According to the z test statistic being negative, it means that male body temperature is likely to be lower than of female.\n",
    "The data shows that there is only 2% chance where this could happen IF male and female mean body temperature were equal."
   ]
  },
  {
   "cell_type": "code",
   "execution_count": null,
   "metadata": {},
   "outputs": [],
   "source": []
  }
 ],
 "metadata": {
  "kernelspec": {
   "display_name": "Python 3",
   "language": "python",
   "name": "python3"
  },
  "language_info": {
   "codemirror_mode": {
    "name": "ipython",
    "version": 3
   },
   "file_extension": ".py",
   "mimetype": "text/x-python",
   "name": "python",
   "nbconvert_exporter": "python",
   "pygments_lexer": "ipython3",
   "version": "3.7.1"
  }
 },
 "nbformat": 4,
 "nbformat_minor": 1
}
